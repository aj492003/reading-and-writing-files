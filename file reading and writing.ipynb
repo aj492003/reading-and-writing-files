{
 "cells": [
  {
   "cell_type": "code",
   "execution_count": 4,
   "id": "57897d80-8232-4688-964c-8e44b98bcd4a",
   "metadata": {},
   "outputs": [],
   "source": [
    "data = {\n",
    "    \"name\" : \"ank\",\n",
    "    \"mail_id\" : \"ank@gmail.com\",\n",
    "    \"phone no\" : \"7011793539\",\n",
    "    \"subject\":  [\"data science\" , \"big data\" , \"data analytics\"]\n",
    "}"
   ]
  },
  {
   "cell_type": "code",
   "execution_count": 5,
   "id": "1e7e1701-e255-4ff9-9e4a-94377b11075e",
   "metadata": {},
   "outputs": [],
   "source": [
    "import json"
   ]
  },
  {
   "cell_type": "code",
   "execution_count": 6,
   "id": "d251d08b-9b85-4414-8641-51d88efb94cc",
   "metadata": {},
   "outputs": [],
   "source": [
    "with open(\"data.json\",\"w\") as f :\n",
    "    json.dump(data,f)"
   ]
  },
  {
   "cell_type": "code",
   "execution_count": 7,
   "id": "859113a5-d8c8-4d29-a53f-87e51be8d862",
   "metadata": {},
   "outputs": [],
   "source": [
    "with open(\"data.json\",\"r\") as f:\n",
    "    data1 = json.load(f)"
   ]
  },
  {
   "cell_type": "code",
   "execution_count": 8,
   "id": "368bfa40-4eb7-4caa-bb6e-2a78e67ee0cb",
   "metadata": {},
   "outputs": [
    {
     "data": {
      "text/plain": [
       "{'name': 'ank',\n",
       " 'mail_id': 'ank@gmail.com',\n",
       " 'phone no': '7011793539',\n",
       " 'subject': ['data science', 'big data', 'data analytics']}"
      ]
     },
     "execution_count": 8,
     "metadata": {},
     "output_type": "execute_result"
    }
   ],
   "source": [
    "data1"
   ]
  },
  {
   "cell_type": "code",
   "execution_count": 9,
   "id": "0e928ac4-d084-4207-94f6-763ced37218b",
   "metadata": {},
   "outputs": [
    {
     "data": {
      "text/plain": [
       "['data science', 'big data', 'data analytics']"
      ]
     },
     "execution_count": 9,
     "metadata": {},
     "output_type": "execute_result"
    }
   ],
   "source": [
    "data1['subject']"
   ]
  },
  {
   "cell_type": "code",
   "execution_count": 10,
   "id": "b325884e-0112-49e0-a50b-15882c96cb92",
   "metadata": {},
   "outputs": [
    {
     "data": {
      "text/plain": [
       "'big data'"
      ]
     },
     "execution_count": 10,
     "metadata": {},
     "output_type": "execute_result"
    }
   ],
   "source": [
    "data1['subject'][1]"
   ]
  },
  {
   "cell_type": "code",
   "execution_count": 11,
   "id": "78854e90-2a0c-4edb-a807-e72a38912fda",
   "metadata": {},
   "outputs": [],
   "source": [
    "import csv "
   ]
  },
  {
   "cell_type": "code",
   "execution_count": 12,
   "id": "2e7bfb8e-b0d9-4d89-868d-c271c96f3574",
   "metadata": {},
   "outputs": [],
   "source": [
    "data = [[\"name\",\"email_id\",\"phone_number\"],\n",
    "        [\"ank\",\"ank@gmail.com\",7011793539],\n",
    "        [\"adi\",\"adi@gmail.com\",7011793539]\n",
    "]"
   ]
  },
  {
   "cell_type": "code",
   "execution_count": 13,
   "id": "74fe6772-78ff-4761-aff9-9cd14584df62",
   "metadata": {},
   "outputs": [],
   "source": [
    "with open(\"data.csv\",\"w\") as f :\n",
    "    writer = csv.writer(f)\n",
    "    \n",
    "    for i in data:\n",
    "        writer.writerow(i)"
   ]
  },
  {
   "cell_type": "code",
   "execution_count": 15,
   "id": "9037a94f-4e63-46bc-b5f5-b035a530dd53",
   "metadata": {},
   "outputs": [
    {
     "name": "stdout",
     "output_type": "stream",
     "text": [
      "['name', 'email_id', 'phone_number']\n",
      "['ank', 'ank@gmail.com', '7011793539']\n",
      "['adi', 'adi@gmail.com', '7011793539']\n"
     ]
    }
   ],
   "source": [
    "with open(\"data.csv\",\"r\") as f:\n",
    "    read_data = csv.reader(f)\n",
    "    \n",
    "    for i in read_data:\n",
    "        print(i)"
   ]
  },
  {
   "cell_type": "code",
   "execution_count": 16,
   "id": "84818d63-42bd-47e0-9758-6ab12a74b2fa",
   "metadata": {},
   "outputs": [],
   "source": [
    "# for binary file "
   ]
  },
  {
   "cell_type": "code",
   "execution_count": 17,
   "id": "d2580928-4bee-4f95-8c7c-7cb06d8da6be",
   "metadata": {},
   "outputs": [],
   "source": [
    "with open(\"test.bin\",\"wb\") as f :\n",
    "    f.write(b\"\\x01\\x02\\x03\")"
   ]
  },
  {
   "cell_type": "code",
   "execution_count": 18,
   "id": "992f7c69-cdcd-4f22-b08f-0fd69d951abf",
   "metadata": {},
   "outputs": [],
   "source": [
    "with open(\"test.bin\",\"wb\") as f :\n",
    "    f.write(b\"\\x01\\x02\\x03\\x3456789\")"
   ]
  },
  {
   "cell_type": "code",
   "execution_count": null,
   "id": "c28a0d98-602e-4a4f-bb9d-0411796812f5",
   "metadata": {},
   "outputs": [],
   "source": [
    "with open(\"test\")"
   ]
  }
 ],
 "metadata": {
  "kernelspec": {
   "display_name": "Python 3 (ipykernel)",
   "language": "python",
   "name": "python3"
  },
  "language_info": {
   "codemirror_mode": {
    "name": "ipython",
    "version": 3
   },
   "file_extension": ".py",
   "mimetype": "text/x-python",
   "name": "python",
   "nbconvert_exporter": "python",
   "pygments_lexer": "ipython3",
   "version": "3.10.8"
  }
 },
 "nbformat": 4,
 "nbformat_minor": 5
}
